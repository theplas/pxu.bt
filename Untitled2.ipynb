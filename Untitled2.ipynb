{
  "nbformat": 4,
  "nbformat_minor": 0,
  "metadata": {
    "colab": {
      "name": "Untitled2.ipynb",
      "provenance": [],
      "authorship_tag": "ABX9TyN+LG4ixfQxkmpEi2cGtmvk",
      "include_colab_link": true
    },
    "kernelspec": {
      "name": "python3",
      "display_name": "Python 3"
    }
  },
  "cells": [
    {
      "cell_type": "markdown",
      "metadata": {
        "id": "view-in-github",
        "colab_type": "text"
      },
      "source": [
        "<a href=\"https://colab.research.google.com/github/theplas/pxu.bt/blob/main/Untitled2.ipynb\" target=\"_parent\"><img src=\"https://colab.research.google.com/assets/colab-badge.svg\" alt=\"Open In Colab\"/></a>"
      ]
    },
    {
      "cell_type": "code",
      "metadata": {
        "colab": {
          "base_uri": "https://localhost:8080/"
        },
        "id": "T6i0Waw9iYPt",
        "outputId": "051b2e79-3182-4b05-94f5-a41e543a8f44"
      },
      "source": [
        "x=[]\r\n",
        "print(\"x:\",x)\r\n"
      ],
      "execution_count": 19,
      "outputs": [
        {
          "output_type": "stream",
          "text": [
            "x: []\n"
          ],
          "name": "stdout"
        }
      ]
    },
    {
      "cell_type": "markdown",
      "metadata": {
        "id": "ku1WjG5OiZqD"
      },
      "source": [
        "Thêm giá trị vào x"
      ]
    },
    {
      "cell_type": "code",
      "metadata": {
        "colab": {
          "base_uri": "https://localhost:8080/"
        },
        "id": "azym8tH3i1lK",
        "outputId": "bf0887ae-5574-4836-da55-15a0074e3dfc"
      },
      "source": [
        "x.append(18)\r\n",
        "print(\"x:\",x)"
      ],
      "execution_count": 20,
      "outputs": [
        {
          "output_type": "stream",
          "text": [
            "x: [18]\n"
          ],
          "name": "stdout"
        }
      ]
    },
    {
      "cell_type": "code",
      "metadata": {
        "colab": {
          "base_uri": "https://localhost:8080/"
        },
        "id": "lUhNUwDrjJiC",
        "outputId": "76ad0248-d8be-424e-aa2c-7380d27bfa3d"
      },
      "source": [
        "x.append(\"Huế\")\r\n",
        "print(\"x:\",x)"
      ],
      "execution_count": 21,
      "outputs": [
        {
          "output_type": "stream",
          "text": [
            "x: [18, 'Huế']\n"
          ],
          "name": "stdout"
        }
      ]
    },
    {
      "cell_type": "markdown",
      "metadata": {
        "id": "E3i_ux6ijYKQ"
      },
      "source": [
        "Tạo 1 List  y = [12, 45, -1, -0.56, \"abc\"]"
      ]
    },
    {
      "cell_type": "code",
      "metadata": {
        "colab": {
          "base_uri": "https://localhost:8080/"
        },
        "id": "K7j7moHXjcDk",
        "outputId": "9e366007-bc5d-4eaf-82ac-ab41a9fdb385"
      },
      "source": [
        "y = [12, 45, -1, -0.56, \"abc\"]\r\n",
        "print(\"y:\",y)"
      ],
      "execution_count": 22,
      "outputs": [
        {
          "output_type": "stream",
          "text": [
            "y: [12, 45, -1, -0.56, 'abc']\n"
          ],
          "name": "stdout"
        }
      ]
    },
    {
      "cell_type": "markdown",
      "metadata": {
        "id": "1K-4TIEkjtJg"
      },
      "source": [
        "Thêm y vào x(extend )"
      ]
    },
    {
      "cell_type": "code",
      "metadata": {
        "colab": {
          "base_uri": "https://localhost:8080/"
        },
        "id": "sqV8mF_9jywI",
        "outputId": "c79af83f-b9f9-4904-c01a-31a70836a80a"
      },
      "source": [
        "x.extend(y)\r\n",
        "print(\"x:\",x)"
      ],
      "execution_count": 23,
      "outputs": [
        {
          "output_type": "stream",
          "text": [
            "x: [18, 'Huế', 12, 45, -1, -0.56, 'abc']\n"
          ],
          "name": "stdout"
        }
      ]
    },
    {
      "cell_type": "markdown",
      "metadata": {
        "id": "Jz8EaxSNkr6L"
      },
      "source": [
        "Xuất giá trị của x ra màn hình"
      ]
    },
    {
      "cell_type": "code",
      "metadata": {
        "colab": {
          "base_uri": "https://localhost:8080/"
        },
        "id": "WWEwKIIUktRB",
        "outputId": "a92c03c2-3ba9-4893-dea7-3b9916fd755d"
      },
      "source": [
        "print(\"x:\",x)"
      ],
      "execution_count": 24,
      "outputs": [
        {
          "output_type": "stream",
          "text": [
            "x: [18, 'Huế', 12, 45, -1, -0.56, 'abc']\n"
          ],
          "name": "stdout"
        }
      ]
    },
    {
      "cell_type": "markdown",
      "metadata": {
        "id": "prvh1sIllQWY"
      },
      "source": [
        "\r\n",
        "In ra màn hình giá trị của phần tử cuối cùng và phần tử đầu tiên của x"
      ]
    },
    {
      "cell_type": "code",
      "metadata": {
        "colab": {
          "base_uri": "https://localhost:8080/"
        },
        "id": "5K1v6SCqlNiJ",
        "outputId": "ea444811-4b3f-4489-cc81-dae7b2e1a8a7"
      },
      "source": [
        "print(x[0],x[-1])"
      ],
      "execution_count": 40,
      "outputs": [
        {
          "output_type": "stream",
          "text": [
            "18 abc\n"
          ],
          "name": "stdout"
        }
      ]
    },
    {
      "cell_type": "markdown",
      "metadata": {
        "id": "v4nYkB-Hn83B"
      },
      "source": [
        "In ra màn hình giá trị của phần tử đầu tiên đến phần tử thứ 5 của x"
      ]
    },
    {
      "cell_type": "code",
      "metadata": {
        "colab": {
          "base_uri": "https://localhost:8080/"
        },
        "id": "iLHBhMJ9oCJl",
        "outputId": "04c2a52b-ecdb-453f-8e2c-4dce5dfcfeb4"
      },
      "source": [
        "print(x[0:5])"
      ],
      "execution_count": 42,
      "outputs": [
        {
          "output_type": "stream",
          "text": [
            "[18, 'Huế', 12, 45, -1]\n"
          ],
          "name": "stdout"
        }
      ]
    },
    {
      "cell_type": "markdown",
      "metadata": {
        "id": "Dcc9BucMoYEv"
      },
      "source": [
        "In ra màn hình giá trị của phần từ thứ 3 đến cuối cùng của x"
      ]
    },
    {
      "cell_type": "code",
      "metadata": {
        "colab": {
          "base_uri": "https://localhost:8080/"
        },
        "id": "7ez5rv7rodrX",
        "outputId": "96808e54-7e27-462a-936e-bfb5c7300c4a"
      },
      "source": [
        "print(x[3:-1])"
      ],
      "execution_count": 43,
      "outputs": [
        {
          "output_type": "stream",
          "text": [
            "[45, -1, -0.56]\n"
          ],
          "name": "stdout"
        }
      ]
    }
  ]
}